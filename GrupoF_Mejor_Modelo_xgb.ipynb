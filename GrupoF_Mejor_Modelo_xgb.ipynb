{
 "cells": [
  {
   "cell_type": "markdown",
   "id": "acbeffd9",
   "metadata": {},
   "source": [
    "# Mejor Modelo XGB - Proyecto 1 - Boson de Higgs \n",
    "## Grupo F"
   ]
  },
  {
   "cell_type": "code",
   "execution_count": 1,
   "id": "50bd8b14",
   "metadata": {},
   "outputs": [],
   "source": [
    "import math\n",
    "import pandas as pd\n",
    "import numpy as np\n",
    "import os\n",
    "import csv\n",
    "import pickle\n",
    "import joblib\n",
    "import matplotlib.pyplot as plt\n",
    "from sklearn.model_selection import train_test_split, StratifiedKFold\n",
    "from sklearn.model_selection import GridSearchCV\n",
    "from sklearn.tree import DecisionTreeClassifier\n",
    "from sklearn.ensemble import RandomForestClassifier\n",
    "from sklearn.metrics import make_scorer\n",
    "from taa_utils import *\n",
    "from sklearn.pipeline import Pipeline\n",
    "from sklearn.impute import SimpleImputer\n",
    "from sklearn.base import BaseEstimator, TransformerMixin\n",
    "from sklearn.preprocessing import LabelEncoder\n",
    "from sklearn.tree import plot_tree\n",
    "from sklearn.model_selection import RandomizedSearchCV\n",
    "from xgboost import XGBClassifier"
   ]
  },
  {
   "cell_type": "markdown",
   "id": "fe7e2268",
   "metadata": {},
   "source": [
    "### Se cargan los datos"
   ]
  },
  {
   "cell_type": "code",
   "execution_count": 2,
   "id": "f761461f",
   "metadata": {},
   "outputs": [],
   "source": [
    "df_train = pd.read_csv('training.csv')"
   ]
  },
  {
   "cell_type": "markdown",
   "id": "7f5a7aa8",
   "metadata": {},
   "source": [
    "## Preprocesamiento"
   ]
  },
  {
   "cell_type": "code",
   "execution_count": 3,
   "id": "dbb57064",
   "metadata": {},
   "outputs": [],
   "source": [
    "class CustomTransformer(BaseEstimator, TransformerMixin):\n",
    "    \n",
    "    def __init__(self):\n",
    "        pass\n",
    "    \n",
    "    def fit(self, X, y=None):\n",
    "        return self\n",
    "    \n",
    "    def transform(self, X, y=None):\n",
    "        \n",
    "        # Reemplaza outiers con nan.\n",
    "        X_nan = X.replace(-999, np.nan)\n",
    "        \n",
    "        # Drop de las columnas que terminan con phi.\n",
    "        X_nan_sin_phi = X_nan.drop(columns= ['PRI_tau_phi',\n",
    "                                             'PRI_lep_phi',\n",
    "                                             'PRI_met_phi',\n",
    "                                             'PRI_jet_leading_phi',\n",
    "                                             'PRI_jet_subleading_phi'])\n",
    "        \n",
    "        # Drop de las columnas con pocos datos y baja corr. que se decidieron descartar.\n",
    "        X_nan_sin_phi = X_nan_sin_phi.drop(columns = ['PRI_jet_subleading_eta', \n",
    "                                                      'PRI_jet_subleading_pt'])\n",
    "        \n",
    "        # Calcula los porcentajes de no-nan para cada columna\n",
    "        X_result = X_nan_sin_phi.drop(columns = ['PRI_jet_all_pt',  \n",
    "                                                 'PRI_met_sumet'])\n",
    "        \n",
    "               \n",
    "        return X_result"
   ]
  },
  {
   "cell_type": "code",
   "execution_count": 4,
   "id": "ef09279b",
   "metadata": {},
   "outputs": [],
   "source": [
    "# Descartamos Label, Weight y EventId.\n",
    "y_train = df_train['Label']\n",
    "EventId = df_train['EventId']\n",
    "X_train = df_train.drop(['EventId', 'Weight', 'Label'], axis=1)\n",
    "\n",
    "# Transformamos labels a binario.\n",
    "y_train, _ = labels_a_binario(y_train, _)"
   ]
  },
  {
   "cell_type": "code",
   "execution_count": 5,
   "id": "c9f64657",
   "metadata": {},
   "outputs": [],
   "source": [
    "# Pipeline de pre-procesamiento.\n",
    "XGB_pipeline = Pipeline([\n",
    "    ('Transform', CustomTransformer()),\n",
    "    ('Imputer', SimpleImputer(strategy='mean')),\n",
    "    ('Classifier', XGBClassifier(colsample_bytree=0.7,learning_rate=0.01,max_depth=15,n_estimators=200,subsample=0.5,random_state=42))\n",
    "])"
   ]
  },
  {
   "cell_type": "markdown",
   "id": "703158c4",
   "metadata": {},
   "source": [
    "## Entrenamiento"
   ]
  },
  {
   "cell_type": "code",
   "execution_count": 6,
   "id": "9ae217b1",
   "metadata": {},
   "outputs": [
    {
     "data": {
      "text/html": [
       "<style>#sk-container-id-1 {color: black;background-color: white;}#sk-container-id-1 pre{padding: 0;}#sk-container-id-1 div.sk-toggleable {background-color: white;}#sk-container-id-1 label.sk-toggleable__label {cursor: pointer;display: block;width: 100%;margin-bottom: 0;padding: 0.3em;box-sizing: border-box;text-align: center;}#sk-container-id-1 label.sk-toggleable__label-arrow:before {content: \"▸\";float: left;margin-right: 0.25em;color: #696969;}#sk-container-id-1 label.sk-toggleable__label-arrow:hover:before {color: black;}#sk-container-id-1 div.sk-estimator:hover label.sk-toggleable__label-arrow:before {color: black;}#sk-container-id-1 div.sk-toggleable__content {max-height: 0;max-width: 0;overflow: hidden;text-align: left;background-color: #f0f8ff;}#sk-container-id-1 div.sk-toggleable__content pre {margin: 0.2em;color: black;border-radius: 0.25em;background-color: #f0f8ff;}#sk-container-id-1 input.sk-toggleable__control:checked~div.sk-toggleable__content {max-height: 200px;max-width: 100%;overflow: auto;}#sk-container-id-1 input.sk-toggleable__control:checked~label.sk-toggleable__label-arrow:before {content: \"▾\";}#sk-container-id-1 div.sk-estimator input.sk-toggleable__control:checked~label.sk-toggleable__label {background-color: #d4ebff;}#sk-container-id-1 div.sk-label input.sk-toggleable__control:checked~label.sk-toggleable__label {background-color: #d4ebff;}#sk-container-id-1 input.sk-hidden--visually {border: 0;clip: rect(1px 1px 1px 1px);clip: rect(1px, 1px, 1px, 1px);height: 1px;margin: -1px;overflow: hidden;padding: 0;position: absolute;width: 1px;}#sk-container-id-1 div.sk-estimator {font-family: monospace;background-color: #f0f8ff;border: 1px dotted black;border-radius: 0.25em;box-sizing: border-box;margin-bottom: 0.5em;}#sk-container-id-1 div.sk-estimator:hover {background-color: #d4ebff;}#sk-container-id-1 div.sk-parallel-item::after {content: \"\";width: 100%;border-bottom: 1px solid gray;flex-grow: 1;}#sk-container-id-1 div.sk-label:hover label.sk-toggleable__label {background-color: #d4ebff;}#sk-container-id-1 div.sk-serial::before {content: \"\";position: absolute;border-left: 1px solid gray;box-sizing: border-box;top: 0;bottom: 0;left: 50%;z-index: 0;}#sk-container-id-1 div.sk-serial {display: flex;flex-direction: column;align-items: center;background-color: white;padding-right: 0.2em;padding-left: 0.2em;position: relative;}#sk-container-id-1 div.sk-item {position: relative;z-index: 1;}#sk-container-id-1 div.sk-parallel {display: flex;align-items: stretch;justify-content: center;background-color: white;position: relative;}#sk-container-id-1 div.sk-item::before, #sk-container-id-1 div.sk-parallel-item::before {content: \"\";position: absolute;border-left: 1px solid gray;box-sizing: border-box;top: 0;bottom: 0;left: 50%;z-index: -1;}#sk-container-id-1 div.sk-parallel-item {display: flex;flex-direction: column;z-index: 1;position: relative;background-color: white;}#sk-container-id-1 div.sk-parallel-item:first-child::after {align-self: flex-end;width: 50%;}#sk-container-id-1 div.sk-parallel-item:last-child::after {align-self: flex-start;width: 50%;}#sk-container-id-1 div.sk-parallel-item:only-child::after {width: 0;}#sk-container-id-1 div.sk-dashed-wrapped {border: 1px dashed gray;margin: 0 0.4em 0.5em 0.4em;box-sizing: border-box;padding-bottom: 0.4em;background-color: white;}#sk-container-id-1 div.sk-label label {font-family: monospace;font-weight: bold;display: inline-block;line-height: 1.2em;}#sk-container-id-1 div.sk-label-container {text-align: center;}#sk-container-id-1 div.sk-container {/* jupyter's `normalize.less` sets `[hidden] { display: none; }` but bootstrap.min.css set `[hidden] { display: none !important; }` so we also need the `!important` here to be able to override the default hidden behavior on the sphinx rendered scikit-learn.org. See: https://github.com/scikit-learn/scikit-learn/issues/21755 */display: inline-block !important;position: relative;}#sk-container-id-1 div.sk-text-repr-fallback {display: none;}</style><div id=\"sk-container-id-1\" class=\"sk-top-container\"><div class=\"sk-text-repr-fallback\"><pre>Pipeline(steps=[(&#x27;Transform&#x27;, CustomTransformer()),\n",
       "                (&#x27;Imputer&#x27;, SimpleImputer()),\n",
       "                (&#x27;Classifier&#x27;,\n",
       "                 XGBClassifier(base_score=None, booster=None, callbacks=None,\n",
       "                               colsample_bylevel=None, colsample_bynode=None,\n",
       "                               colsample_bytree=0.7, early_stopping_rounds=None,\n",
       "                               enable_categorical=False, eval_metric=None,\n",
       "                               feature_types=None, gamma=None, gpu_id=None,\n",
       "                               grow_policy=None, importance_type=None,\n",
       "                               interaction_constraints=None, learning_rate=0.01,\n",
       "                               max_bin=None, max_cat_threshold=None,\n",
       "                               max_cat_to_onehot=None, max_delta_step=None,\n",
       "                               max_depth=15, max_leaves=None,\n",
       "                               min_child_weight=None, missing=nan,\n",
       "                               monotone_constraints=None, n_estimators=200,\n",
       "                               n_jobs=None, num_parallel_tree=None,\n",
       "                               predictor=None, random_state=42, ...))])</pre><b>In a Jupyter environment, please rerun this cell to show the HTML representation or trust the notebook. <br />On GitHub, the HTML representation is unable to render, please try loading this page with nbviewer.org.</b></div><div class=\"sk-container\" hidden><div class=\"sk-item sk-dashed-wrapped\"><div class=\"sk-label-container\"><div class=\"sk-label sk-toggleable\"><input class=\"sk-toggleable__control sk-hidden--visually\" id=\"sk-estimator-id-1\" type=\"checkbox\" ><label for=\"sk-estimator-id-1\" class=\"sk-toggleable__label sk-toggleable__label-arrow\">Pipeline</label><div class=\"sk-toggleable__content\"><pre>Pipeline(steps=[(&#x27;Transform&#x27;, CustomTransformer()),\n",
       "                (&#x27;Imputer&#x27;, SimpleImputer()),\n",
       "                (&#x27;Classifier&#x27;,\n",
       "                 XGBClassifier(base_score=None, booster=None, callbacks=None,\n",
       "                               colsample_bylevel=None, colsample_bynode=None,\n",
       "                               colsample_bytree=0.7, early_stopping_rounds=None,\n",
       "                               enable_categorical=False, eval_metric=None,\n",
       "                               feature_types=None, gamma=None, gpu_id=None,\n",
       "                               grow_policy=None, importance_type=None,\n",
       "                               interaction_constraints=None, learning_rate=0.01,\n",
       "                               max_bin=None, max_cat_threshold=None,\n",
       "                               max_cat_to_onehot=None, max_delta_step=None,\n",
       "                               max_depth=15, max_leaves=None,\n",
       "                               min_child_weight=None, missing=nan,\n",
       "                               monotone_constraints=None, n_estimators=200,\n",
       "                               n_jobs=None, num_parallel_tree=None,\n",
       "                               predictor=None, random_state=42, ...))])</pre></div></div></div><div class=\"sk-serial\"><div class=\"sk-item\"><div class=\"sk-estimator sk-toggleable\"><input class=\"sk-toggleable__control sk-hidden--visually\" id=\"sk-estimator-id-2\" type=\"checkbox\" ><label for=\"sk-estimator-id-2\" class=\"sk-toggleable__label sk-toggleable__label-arrow\">CustomTransformer</label><div class=\"sk-toggleable__content\"><pre>CustomTransformer()</pre></div></div></div><div class=\"sk-item\"><div class=\"sk-estimator sk-toggleable\"><input class=\"sk-toggleable__control sk-hidden--visually\" id=\"sk-estimator-id-3\" type=\"checkbox\" ><label for=\"sk-estimator-id-3\" class=\"sk-toggleable__label sk-toggleable__label-arrow\">SimpleImputer</label><div class=\"sk-toggleable__content\"><pre>SimpleImputer()</pre></div></div></div><div class=\"sk-item\"><div class=\"sk-estimator sk-toggleable\"><input class=\"sk-toggleable__control sk-hidden--visually\" id=\"sk-estimator-id-4\" type=\"checkbox\" ><label for=\"sk-estimator-id-4\" class=\"sk-toggleable__label sk-toggleable__label-arrow\">XGBClassifier</label><div class=\"sk-toggleable__content\"><pre>XGBClassifier(base_score=None, booster=None, callbacks=None,\n",
       "              colsample_bylevel=None, colsample_bynode=None,\n",
       "              colsample_bytree=0.7, early_stopping_rounds=None,\n",
       "              enable_categorical=False, eval_metric=None, feature_types=None,\n",
       "              gamma=None, gpu_id=None, grow_policy=None, importance_type=None,\n",
       "              interaction_constraints=None, learning_rate=0.01, max_bin=None,\n",
       "              max_cat_threshold=None, max_cat_to_onehot=None,\n",
       "              max_delta_step=None, max_depth=15, max_leaves=None,\n",
       "              min_child_weight=None, missing=nan, monotone_constraints=None,\n",
       "              n_estimators=200, n_jobs=None, num_parallel_tree=None,\n",
       "              predictor=None, random_state=42, ...)</pre></div></div></div></div></div></div></div>"
      ],
      "text/plain": [
       "Pipeline(steps=[('Transform', CustomTransformer()),\n",
       "                ('Imputer', SimpleImputer()),\n",
       "                ('Classifier',\n",
       "                 XGBClassifier(base_score=None, booster=None, callbacks=None,\n",
       "                               colsample_bylevel=None, colsample_bynode=None,\n",
       "                               colsample_bytree=0.7, early_stopping_rounds=None,\n",
       "                               enable_categorical=False, eval_metric=None,\n",
       "                               feature_types=None, gamma=None, gpu_id=None,\n",
       "                               grow_policy=None, importance_type=None,\n",
       "                               interaction_constraints=None, learning_rate=0.01,\n",
       "                               max_bin=None, max_cat_threshold=None,\n",
       "                               max_cat_to_onehot=None, max_delta_step=None,\n",
       "                               max_depth=15, max_leaves=None,\n",
       "                               min_child_weight=None, missing=nan,\n",
       "                               monotone_constraints=None, n_estimators=200,\n",
       "                               n_jobs=None, num_parallel_tree=None,\n",
       "                               predictor=None, random_state=42, ...))])"
      ]
     },
     "execution_count": 6,
     "metadata": {},
     "output_type": "execute_result"
    }
   ],
   "source": [
    "xgb_model = XGB_pipeline.fit(X=X_train, y=y_train)\n",
    "xgb_model"
   ]
  },
  {
   "cell_type": "code",
   "execution_count": 7,
   "id": "4e554fed",
   "metadata": {},
   "outputs": [
    {
     "data": {
      "text/plain": [
       "['Proy1_GrupoF_xgb_profs.pkl']"
      ]
     },
     "execution_count": 7,
     "metadata": {},
     "output_type": "execute_result"
    }
   ],
   "source": [
    "# Almacenamos el modelo.\n",
    "joblib.dump(xgb_model, \"Proy1_GrupoF_xgb_profs.pkl\")"
   ]
  },
  {
   "cell_type": "markdown",
   "id": "bac53b0c",
   "metadata": {},
   "source": [
    "# Correr Modelo Entrenado"
   ]
  },
  {
   "cell_type": "markdown",
   "id": "f9e557f5",
   "metadata": {},
   "source": [
    "### Se puede selecionar entre el modelo ya generado o el entrenado por ustedes en la segunda celda."
   ]
  },
  {
   "cell_type": "code",
   "execution_count": 8,
   "id": "37e2722d",
   "metadata": {},
   "outputs": [],
   "source": [
    "# Se cargan los datos de test\n",
    "df_test = pd.read_csv('test.csv')\n",
    "EventID_test, X_test = dropEventID(df_test)"
   ]
  },
  {
   "cell_type": "code",
   "execution_count": 9,
   "id": "05373ac6",
   "metadata": {},
   "outputs": [],
   "source": [
    "# Modelo generado de antemano:\n",
    "final_model = joblib.load(\"Proy1_GrupoF_xgb_pre_entrenado.pkl\")\n",
    "\n",
    "# Modelo generado por profs: (Tal vez tengan que cambiar el nombre del load si lo cambiaron en el dump)\n",
    "# final_model = joblib.load(\"Proy1_GrupoF_xgb_profs.pkl\")"
   ]
  },
  {
   "cell_type": "code",
   "execution_count": 10,
   "id": "1dcc2dc1",
   "metadata": {},
   "outputs": [
    {
     "name": "stdout",
     "output_type": "stream",
     "text": [
      "y_test_pred: \n",
      " 0         0\n",
      "1         0\n",
      "2         0\n",
      "3         1\n",
      "4         0\n",
      "         ..\n",
      "549995    0\n",
      "549996    0\n",
      "549997    0\n",
      "549998    0\n",
      "549999    0\n",
      "Length: 550000, dtype: int32\n"
     ]
    }
   ],
   "source": [
    "# Se predice sobre el conjunto de Test.\n",
    "y_test_pred_xgb = final_model.predict(X_test)\n",
    "y_test_pred_xgb = pd.Series(y_test_pred_xgb)\n",
    "print(f'y_test_pred: \\n {y_test_pred_xgb}')"
   ]
  },
  {
   "cell_type": "code",
   "execution_count": 11,
   "id": "a6b96d8b",
   "metadata": {},
   "outputs": [],
   "source": [
    "# Se crea la submission de Kaggle\n",
    "y_test_cat_xgb = y_test_pred_xgb.map({1: 's', 0: 'b'})\n",
    "crear_submission_file(EventID_test, y_test_cat_xgb, 'Submission_xgb_Grupo_F_profs.csv')"
   ]
  }
 ],
 "metadata": {
  "kernelspec": {
   "display_name": "Python 3 (ipykernel)",
   "language": "python",
   "name": "python3"
  },
  "language_info": {
   "codemirror_mode": {
    "name": "ipython",
    "version": 3
   },
   "file_extension": ".py",
   "mimetype": "text/x-python",
   "name": "python",
   "nbconvert_exporter": "python",
   "pygments_lexer": "ipython3",
   "version": "3.10.9"
  }
 },
 "nbformat": 4,
 "nbformat_minor": 5
}
