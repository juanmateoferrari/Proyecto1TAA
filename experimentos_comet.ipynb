{
 "cells": [
  {
   "cell_type": "code",
   "execution_count": 1,
   "id": "43dbc13f",
   "metadata": {},
   "outputs": [],
   "source": [
    "import pandas as pd\n",
    "import numpy as np\n",
    "import csv\n",
    "import matplotlib.pyplot as plt\n",
    "from sklearn.model_selection import train_test_split, StratifiedKFold, GridSearchCV, RandomizedSearchCV, cross_validate\n",
    "from sklearn.tree import DecisionTreeClassifier, plot_tree\n",
    "from sklearn.ensemble import RandomForestClassifier\n",
    "from sklearn.pipeline import Pipeline\n",
    "from sklearn.impute import SimpleImputer\n",
    "from sklearn.base import BaseEstimator, TransformerMixin\n",
    "from comet_ml import Experiment\n",
    "from taa_utils import *\n",
    "import math\n",
    "import os\n",
    "import pickle\n",
    "import joblib\n",
    "from sklearn.metrics import make_scorer\n",
    "from sklearn.preprocessing import LabelEncoder\n",
    "from xgboost import XGBClassifier"
   ]
  },
  {
   "cell_type": "markdown",
   "id": "2d70cd93",
   "metadata": {},
   "source": [
    "# Mejores Modelos"
   ]
  },
  {
   "cell_type": "code",
   "execution_count": 2,
   "id": "75d145ae",
   "metadata": {},
   "outputs": [],
   "source": [
    "df_train = pd.read_csv('training.csv')\n",
    "df_test = pd.read_csv('test.csv')"
   ]
  },
  {
   "cell_type": "code",
   "execution_count": 3,
   "id": "1d3f714c",
   "metadata": {},
   "outputs": [],
   "source": [
    "# Descarto Label, Weight y EventId\n",
    "\n",
    "y_train = df_train['Label']\n",
    "EventId = df_train['EventId']\n",
    "X_train = df_train.drop(['EventId', 'Weight', 'Label'], axis=1)\n",
    "\n",
    "# Transforma labels a binario.\n",
    "y_train, _ = labels_a_binario(y_train, _)"
   ]
  },
  {
   "cell_type": "code",
   "execution_count": 4,
   "id": "027f71d0",
   "metadata": {},
   "outputs": [],
   "source": [
    "class CustomTransformer(BaseEstimator, TransformerMixin):\n",
    "    \n",
    "    def __init__(self):\n",
    "        pass\n",
    "    \n",
    "    def fit(self, X, y=None):\n",
    "        return self\n",
    "    \n",
    "    def transform(self, X, y=None):\n",
    "        \n",
    "        # Reemplaza outiers con nan.\n",
    "        X_nan = X.replace(-999, np.nan)\n",
    "        \n",
    "        # Drop de las columnas que terminan con phi.\n",
    "        X_nan_sin_phi = X_nan.drop(columns= ['PRI_tau_phi',\n",
    "                                             'PRI_lep_phi',\n",
    "                                             'PRI_met_phi',\n",
    "                                             'PRI_jet_leading_phi',\n",
    "                                             'PRI_jet_subleading_phi'])\n",
    "        \n",
    "        # Drop de las columnas con pocos datos y baja corr. que se decidieron descartar.\n",
    "        X_nan_sin_phi = X_nan_sin_phi.drop(columns = ['PRI_jet_subleading_eta', \n",
    "                                                      'PRI_jet_subleading_pt'])\n",
    "        \n",
    "        # Calcula los porcentajes de no-nan para cada columna\n",
    "        X_result = X_nan_sin_phi.drop(columns = ['PRI_jet_all_pt',  \n",
    "                                                 'PRI_met_sumet'])\n",
    "        \n",
    "               \n",
    "        return X_result"
   ]
  },
  {
   "cell_type": "code",
   "execution_count": 5,
   "id": "87bcb219",
   "metadata": {},
   "outputs": [],
   "source": [
    "def save_results(cmt_exp, cross_val_results):\n",
    "    '''\n",
    "    Entrada:\n",
    "        cmt_exp: experimento comet\n",
    "        cross_val_scores: scikit-learn cross validation results\n",
    "    '''\n",
    "\n",
    "    ### Registro de Métricas de Evaluación ###\n",
    "    fit_time = cross_val_results['fit_time']\n",
    "    cv_f1 = cross_val_results['test_f1']\n",
    "    cv_roc = cross_val_results['test_roc_auc']\n",
    "   \n",
    "    ### Resultados para cada fold ###\n",
    "    for k in range(fit_time.size):\n",
    "        metrics_step = {\n",
    "            'Fit Time':fit_time[k],\n",
    "            'f1':cv_f1[k],\n",
    "            'roc':cv_roc[k],\n",
    "        }\n",
    "        cmt_exp.log_metrics(metrics_step,step=k)\n",
    "\n",
    "    ### Registro de Gráficas ###\n",
    "    plt.figure()\n",
    "    plt.plot(cross_val_results['test_f1'],'*-')\n",
    "    plt.xlabel('fold')\n",
    "    plt.ylabel('f1')\n",
    "    plt.title('Cross validation f1')\n",
    "    plt.grid()\n",
    "    \n",
    "    cmt_exp.log_figure(figure_name=\"CV_f1\" ,figure=plt)\n",
    "   \n",
    "    return"
   ]
  },
  {
   "cell_type": "code",
   "execution_count": 6,
   "id": "45f2ae94",
   "metadata": {},
   "outputs": [],
   "source": [
    "API_KEY = '4758xmPFeCo55aLIV3xaKbPU2' # Se puede encontrar en Settings(Arriba a la derecha en Comet)"
   ]
  },
  {
   "cell_type": "markdown",
   "id": "093b3470",
   "metadata": {},
   "source": [
    "## Decision Tree"
   ]
  },
  {
   "cell_type": "code",
   "execution_count": 7,
   "id": "28b4fb8f",
   "metadata": {
    "tags": [
     "raises-exception"
    ]
   },
   "outputs": [],
   "source": [
    "DT_pipeline = Pipeline([\n",
    "    ('Transform', CustomTransformer()),\n",
    "    ('Imputer', SimpleImputer(strategy='mean')),\n",
    "    ('Classifier', DecisionTreeClassifier(max_depth=20, min_samples_leaf=50, random_state=42))\n",
    "])"
   ]
  },
  {
   "cell_type": "code",
   "execution_count": 10,
   "id": "98b0bad8",
   "metadata": {
    "tags": [
     "raises-exception"
    ]
   },
   "outputs": [
    {
     "name": "stderr",
     "output_type": "stream",
     "text": [
      "[Parallel(n_jobs=-1)]: Using backend LokyBackend with 16 concurrent workers.\n",
      "[Parallel(n_jobs=-1)]: Done   3 out of  10 | elapsed:   12.4s remaining:   29.1s\n",
      "[Parallel(n_jobs=-1)]: Done   7 out of  10 | elapsed:   12.7s remaining:    5.4s\n",
      "[Parallel(n_jobs=-1)]: Done  10 out of  10 | elapsed:   12.7s finished\n"
     ]
    }
   ],
   "source": [
    "# Cross validation\n",
    "kfolds = StratifiedKFold(10)\n",
    "scores_dt = cross_validate(estimator=DT_pipeline,\n",
    "                        X=X_train, \n",
    "                        y=y_train,\n",
    "                        scoring=['f1','roc_auc'],\n",
    "                        cv=kfolds.split(X_train, y_train),\n",
    "                        return_train_score=True,\n",
    "                        return_estimator=True,\n",
    "                        error_score='raise',\n",
    "                        verbose=-2,\n",
    "                        n_jobs=-1,\n",
    "                       )"
   ]
  },
  {
   "cell_type": "code",
   "execution_count": 11,
   "id": "1faaf3b5",
   "metadata": {
    "tags": [
     "raises-exception"
    ]
   },
   "outputs": [
    {
     "name": "stderr",
     "output_type": "stream",
     "text": [
      "COMET WARNING: Comet has disabled auto-logging functionality as it has been imported after the following ML modules: sklearn. Metrics and hyperparameters can still be logged using Experiment.log_metrics() and Experiment.log_parameters()\n",
      "COMET WARNING: As you are running in a Jupyter environment, you will need to call `experiment.end()` when finished to ensure all metrics and code are logged before exiting.\n",
      "COMET INFO: Couldn't find a Git repository in 'C:\\\\Users\\\\Franco\\\\Desktop\\\\Franco\\\\Facultad\\\\Fing\\\\2023\\\\Semestre 1\\\\TAA\\\\Proyecto 1' nor in any parent directory. You can override where Comet is looking for a Git Patch by setting the configuration `COMET_GIT_DIRECTORY`\n",
      "COMET WARNING: Unknown error exporting current conda environment\n",
      "COMET WARNING: Unknown error retrieving Conda package as an explicit file\n",
      "COMET WARNING: Unknown error retrieving Conda information\n",
      "COMET INFO: Experiment is live on comet.com https://www.comet.com/franco-berrutti/proy1/e29fa79aab604de683a80299f5fde71e\n",
      "\n",
      "COMET INFO: ---------------------------------------------------------------------------------------\n",
      "COMET INFO: Comet.ml Experiment Summary\n",
      "COMET INFO: ---------------------------------------------------------------------------------------\n",
      "COMET INFO:   Data:\n",
      "COMET INFO:     display_summary_level : 1\n",
      "COMET INFO:     url                   : https://www.comet.com/franco-berrutti/proy1/e29fa79aab604de683a80299f5fde71e\n",
      "COMET INFO:   Metrics [count] (min, max):\n",
      "COMET INFO:     Fit Time [10] : (10.808899164199829, 11.267567157745361)\n",
      "COMET INFO:     f1 [10]       : (0.657666569682863, 0.6661645422943221)\n",
      "COMET INFO:     roc [10]      : (0.73953640474849, 0.7459558379082889)\n",
      "COMET INFO:   Others:\n",
      "COMET INFO:     Name : DT\n",
      "COMET INFO:   Parameters:\n",
      "COMET INFO:     Classifier                           : DecisionTreeClassifier(random_state=42)\n",
      "COMET INFO:     Classifier__ccp_alpha                : 0.0\n",
      "COMET INFO:     Classifier__class_weight             : 1\n",
      "COMET INFO:     Classifier__criterion                : gini\n",
      "COMET INFO:     Classifier__max_depth                : 1\n",
      "COMET INFO:     Classifier__max_features             : 1\n",
      "COMET INFO:     Classifier__max_leaf_nodes           : 1\n",
      "COMET INFO:     Classifier__min_impurity_decrease    : 0.0\n",
      "COMET INFO:     Classifier__min_samples_leaf         : 1\n",
      "COMET INFO:     Classifier__min_samples_split        : 2\n",
      "COMET INFO:     Classifier__min_weight_fraction_leaf : 0.0\n",
      "COMET INFO:     Classifier__random_state             : 42\n",
      "COMET INFO:     Classifier__splitter                 : best\n",
      "COMET INFO:     Imputer                              : SimpleImputer()\n",
      "COMET INFO:     Imputer__add_indicator               : False\n",
      "COMET INFO:     Imputer__copy                        : True\n",
      "COMET INFO:     Imputer__fill_value                  : 1\n",
      "COMET INFO:     Imputer__keep_empty_features         : False\n",
      "COMET INFO:     Imputer__missing_values              : nan\n",
      "COMET INFO:     Imputer__strategy                    : mean\n",
      "COMET INFO:     Imputer__verbose                     : deprecated\n",
      "COMET INFO:     Transform                            : CustomTransformer()\n",
      "COMET INFO:     memory                               : 1\n",
      "COMET INFO:     modelo                               : dt\n",
      "COMET INFO:     steps                                : [('Transform', CustomTransformer()), ('Imputer', SimpleImputer()), ('Classifier', DecisionTreeClassifier(random_state=42))]\n",
      "COMET INFO:     verbose                              : False\n",
      "COMET INFO:   Uploads:\n",
      "COMET INFO:     environment details : 1\n",
      "COMET INFO:     figures             : 1\n",
      "COMET INFO:     filename            : 1\n",
      "COMET INFO:     installed packages  : 1\n",
      "COMET INFO:     notebook            : 1\n",
      "COMET INFO:     source_code         : 1\n",
      "COMET INFO: \n",
      "COMET WARNING: Comet has disabled auto-logging functionality as it has been imported after the following ML modules: sklearn. Metrics and hyperparameters can still be logged using Experiment.log_metrics() and Experiment.log_parameters()\n",
      "COMET INFO: Uploading metrics, params, and assets to Comet before program termination (may take several seconds)\n",
      "COMET INFO: The Python SDK has 3600 seconds to finish uploading collected data\n"
     ]
    },
    {
     "data": {
      "image/png": "[encoded data removed]",
      "text/plain": [
       "<Figure size 640x480 with 1 Axes>"
      ]
     },
     "metadata": {},
     "output_type": "display_data"
    }
   ],
   "source": [
    "#Creo un experimento con la API KEY\n",
    "exp_dt = Experiment(api_key=API_KEY,  \n",
    "                 project_name='PROY1', # Nombre del proyecto donde se registran los experimentos\n",
    "                 auto_param_logging=False) \n",
    "exp_dt.set_name('DT') # Nombre de este experimento\n",
    "exp_dt.add_tags(['dt']) # Tags\n",
    "\n",
    "exp_dt.log_parameters(DT_pipeline.get_params())\n",
    "exp_dt.log_parameter(\"modelo\",\"dt\")\n",
    "save_results(exp_dt,scores_dt)\n",
    "exp_dt.end()"
   ]
  },
  {
   "cell_type": "markdown",
   "id": "8c2ee5b7",
   "metadata": {},
   "source": [
    "## Random Forest"
   ]
  },
  {
   "cell_type": "code",
   "execution_count": 12,
   "id": "c12c9be9",
   "metadata": {
    "tags": [
     "raises-exception"
    ]
   },
   "outputs": [],
   "source": [
    "RF_pipeline = Pipeline([\n",
    "    ('Transform', CustomTransformer()),\n",
    "    ('Imputer', SimpleImputer(strategy='mean')),\n",
    "    ('Classifier', RandomForestClassifier(class_weight='balanced', max_depth=20, min_samples_leaf=5, n_estimators=300, random_state=42))\n",
    "])\n"
   ]
  },
  {
   "cell_type": "code",
   "execution_count": 15,
   "id": "49e30c1d",
   "metadata": {
    "tags": [
     "raises-exception"
    ]
   },
   "outputs": [],
   "source": [
    "# Cross validation\n",
    "kfolds = StratifiedKFold(10)\n",
    "scores_rf = cross_validate(estimator=RF_pipeline,\n",
    "                        X=X_train, \n",
    "                        y=y_train,\n",
    "                        scoring=['f1','roc_auc'],\n",
    "                        cv=kfolds.split(X_train, y_train),\n",
    "                        return_train_score=True,\n",
    "                        return_estimator=True,\n",
    "                        error_score='raise',\n",
    "                        n_jobs=-1,\n",
    "                       )"
   ]
  },
  {
   "cell_type": "code",
   "execution_count": 16,
   "id": "1d741906",
   "metadata": {
    "tags": [
     "raises-exception"
    ]
   },
   "outputs": [
    {
     "name": "stderr",
     "output_type": "stream",
     "text": [
      "COMET WARNING: Comet has disabled auto-logging functionality as it has been imported after the following ML modules: sklearn. Metrics and hyperparameters can still be logged using Experiment.log_metrics() and Experiment.log_parameters()\n",
      "COMET WARNING: As you are running in a Jupyter environment, you will need to call `experiment.end()` when finished to ensure all metrics and code are logged before exiting.\n",
      "COMET INFO: Couldn't find a Git repository in 'C:\\\\Users\\\\Franco\\\\Desktop\\\\Franco\\\\Facultad\\\\Fing\\\\2023\\\\Semestre 1\\\\TAA\\\\Proyecto 1' nor in any parent directory. You can override where Comet is looking for a Git Patch by setting the configuration `COMET_GIT_DIRECTORY`\n",
      "COMET WARNING: Unknown error exporting current conda environment\n",
      "COMET WARNING: Unknown error retrieving Conda package as an explicit file\n",
      "COMET WARNING: Unknown error retrieving Conda information\n",
      "COMET INFO: Experiment is live on comet.com https://www.comet.com/franco-berrutti/proy1/0728df229ba749b8b2e877720fa3cb54\n",
      "\n",
      "COMET INFO: ---------------------------------------------------------------------------------------\n",
      "COMET INFO: Comet.ml Experiment Summary\n",
      "COMET INFO: ---------------------------------------------------------------------------------------\n",
      "COMET INFO:   Data:\n",
      "COMET INFO:     display_summary_level : 1\n",
      "COMET INFO:     url                   : https://www.comet.com/franco-berrutti/proy1/0728df229ba749b8b2e877720fa3cb54\n",
      "COMET INFO:   Metrics [count] (min, max):\n",
      "COMET INFO:     Fit Time [10] : (157.11915588378906, 172.8867757320404)\n",
      "COMET INFO:     f1 [10]       : (0.7448745741715701, 0.7584390124364395)\n",
      "COMET INFO:     roc [10]      : (0.9019493049765606, 0.9077344751613016)\n",
      "COMET INFO:   Others:\n",
      "COMET INFO:     Name : RF\n",
      "COMET INFO:   Parameters:\n",
      "COMET INFO:     Classifier                           : RandomForestClassifier(random_state=42)\n",
      "COMET INFO:     Classifier__bootstrap                : True\n",
      "COMET INFO:     Classifier__ccp_alpha                : 0.0\n",
      "COMET INFO:     Classifier__class_weight             : 1\n",
      "COMET INFO:     Classifier__criterion                : gini\n",
      "COMET INFO:     Classifier__max_depth                : 1\n",
      "COMET INFO:     Classifier__max_features             : sqrt\n",
      "COMET INFO:     Classifier__max_leaf_nodes           : 1\n",
      "COMET INFO:     Classifier__max_samples              : 1\n",
      "COMET INFO:     Classifier__min_impurity_decrease    : 0.0\n",
      "COMET INFO:     Classifier__min_samples_leaf         : 1\n",
      "COMET INFO:     Classifier__min_samples_split        : 2\n",
      "COMET INFO:     Classifier__min_weight_fraction_leaf : 0.0\n",
      "COMET INFO:     Classifier__n_estimators             : 100\n",
      "COMET INFO:     Classifier__n_jobs                   : 1\n",
      "COMET INFO:     Classifier__oob_score                : False\n",
      "COMET INFO:     Classifier__random_state             : 42\n",
      "COMET INFO:     Classifier__verbose                  : 0\n",
      "COMET INFO:     Classifier__warm_start               : False\n",
      "COMET INFO:     Imputer                              : SimpleImputer()\n",
      "COMET INFO:     Imputer__add_indicator               : False\n",
      "COMET INFO:     Imputer__copy                        : True\n",
      "COMET INFO:     Imputer__fill_value                  : 1\n",
      "COMET INFO:     Imputer__keep_empty_features         : False\n",
      "COMET INFO:     Imputer__missing_values              : nan\n",
      "COMET INFO:     Imputer__strategy                    : mean\n",
      "COMET INFO:     Imputer__verbose                     : deprecated\n",
      "COMET INFO:     Transform                            : CustomTransformer()\n",
      "COMET INFO:     memory                               : 1\n",
      "COMET INFO:     modelo                               : rf\n",
      "COMET INFO:     steps                                : [('Transform', CustomTransformer()), ('Imputer', SimpleImputer()), ('Classifier', RandomForestClassifier(random_state=42))]\n",
      "COMET INFO:     verbose                              : False\n",
      "COMET INFO:   Uploads:\n",
      "COMET INFO:     environment details : 1\n",
      "COMET INFO:     figures             : 1\n",
      "COMET INFO:     filename            : 1\n",
      "COMET INFO:     installed packages  : 1\n",
      "COMET INFO:     notebook            : 1\n",
      "COMET INFO:     source_code         : 1\n",
      "COMET INFO: \n",
      "COMET WARNING: Comet has disabled auto-logging functionality as it has been imported after the following ML modules: sklearn. Metrics and hyperparameters can still be logged using Experiment.log_metrics() and Experiment.log_parameters()\n",
      "COMET INFO: Uploading 153 metrics, params and output messages\n"
     ]
    },
    {
     "data": {
      "image/png": "[encoded data removed]",
      "text/plain": [
       "<Figure size 640x480 with 1 Axes>"
      ]
     },
     "metadata": {},
     "output_type": "display_data"
    }
   ],
   "source": [
    "#Creo un experimento con la API KEY\n",
    "exp_rf = Experiment(api_key=API_KEY,  \n",
    "                 project_name='PROY1', # Nombre del proyecto donde se registran los experimentos\n",
    "                 auto_param_logging=False) \n",
    "exp_rf.set_name('RF') # Nombre de este experimento\n",
    "exp_rf.add_tags(['rf']) # Tags\n",
    "\n",
    "exp_rf.log_parameters(RF_pipeline.get_params())\n",
    "exp_rf.log_parameter(\"modelo\",\"rf\")\n",
    "save_results(exp_rf,scores_rf)\n",
    "exp_rf.end()"
   ]
  },
  {
   "cell_type": "markdown",
   "id": "e572f1f5",
   "metadata": {},
   "source": [
    "## XGBoost"
   ]
  },
  {
   "cell_type": "code",
   "execution_count": 7,
   "id": "88407100",
   "metadata": {
    "tags": [
     "raises-exception"
    ]
   },
   "outputs": [],
   "source": [
    "# Pipeline de pre-procesamiento\n",
    "xgb_pipeline = Pipeline([\n",
    "    ('Transform', CustomTransformer()),\n",
    "    ('Imputer', SimpleImputer(strategy='mean')),\n",
    "    ('Classifier', XGBClassifier(colsample_bytree=0.7,learning_rate=0.01,max_depth=15,n_estimators=200,subsample=0.5,random_state=42))\n",
    "])"
   ]
  },
  {
   "cell_type": "code",
   "execution_count": 13,
   "id": "5fb554e5",
   "metadata": {
    "tags": [
     "raises-exception"
    ]
   },
   "outputs": [],
   "source": [
    "# Cross validation\n",
    "kfolds = StratifiedKFold(10)\n",
    "scores_xgb = cross_validate(estimator=XGB_pipeline,\n",
    "                        X=X_train, \n",
    "                        y=y_train,\n",
    "                        scoring=['f1','roc_auc'],\n",
    "                        cv=kfolds.split(X_train, y_train),\n",
    "                        return_train_score=True,\n",
    "                        return_estimator=True,\n",
    "                        error_score='raise',\n",
    "                        n_jobs=-1,\n",
    "                       )"
   ]
  },
  {
   "cell_type": "code",
   "execution_count": 15,
   "id": "828592ee",
   "metadata": {
    "scrolled": true,
    "tags": [
     "raises-exception"
    ]
   },
   "outputs": [
    {
     "name": "stderr",
     "output_type": "stream",
     "text": [
      "COMET WARNING: Comet has disabled auto-logging functionality as it has been imported after the following ML modules: sklearn. Metrics and hyperparameters can still be logged using Experiment.log_metrics() and Experiment.log_parameters()\n",
      "COMET INFO: ---------------------------------------------------------------------------------------\n",
      "COMET INFO: Comet.ml Experiment Summary\n",
      "COMET INFO: ---------------------------------------------------------------------------------------\n",
      "COMET INFO:   Data:\n",
      "COMET INFO:     display_summary_level : 1\n",
      "COMET INFO:     url                   : https://www.comet.com/franco-berrutti/proy1/1ca94d4f651e4d9db3a21764b3167111\n",
      "COMET INFO:   Others:\n",
      "COMET INFO:     Name : RF\n",
      "COMET INFO:   Parameters:\n",
      "COMET INFO:     Classifier                          : XGBClassifier(base_score=None, booster=None, callbacks=None,\n",
      "              colsample_bylevel=None, colsample_bynode=None,\n",
      "              colsample_bytree=0.7, early_stopping_rounds=None,\n",
      "              enable_categorical=False, eval_metric=None, feature_types=None,\n",
      "              gamma=None, gpu_id=None, grow_policy=None, importance_type=None,\n",
      "              interaction_constraints=None, learning_rate=0.01, max_bin=None,\n",
      "              max_cat_threshold=None, max_cat_to_onehot=None,\n",
      "              max_delta_step=None, max_depth=15, max_leaves=None,\n",
      "              min_child_weight=None, missing=nan, monotone_constraints=None,\n",
      "              n_estimators=200, n_jobs=None, num_parallel_tree=None,\n",
      "              predictor=None, random_state=42, ...)\n",
      "COMET INFO:     Classifier__base_score              : 1\n",
      "COMET INFO:     Classifier__booster                 : 1\n",
      "COMET INFO:     Classifier__callbacks               : 1\n",
      "COMET INFO:     Classifier__colsample_bylevel       : 1\n",
      "COMET INFO:     Classifier__colsample_bynode        : 1\n",
      "COMET INFO:     Classifier__colsample_bytree        : 0.7\n",
      "COMET INFO:     Classifier__early_stopping_rounds   : 1\n",
      "COMET INFO:     Classifier__enable_categorical      : False\n",
      "COMET INFO:     Classifier__eval_metric             : 1\n",
      "COMET INFO:     Classifier__feature_types           : 1\n",
      "COMET INFO:     Classifier__gamma                   : 1\n",
      "COMET INFO:     Classifier__gpu_id                  : 1\n",
      "COMET INFO:     Classifier__grow_policy             : 1\n",
      "COMET INFO:     Classifier__importance_type         : 1\n",
      "COMET INFO:     Classifier__interaction_constraints : 1\n",
      "COMET INFO:     Classifier__learning_rate           : 0.01\n",
      "COMET INFO:     Classifier__max_bin                 : 1\n",
      "COMET INFO:     Classifier__max_cat_threshold       : 1\n",
      "COMET INFO:     Classifier__max_cat_to_onehot       : 1\n",
      "COMET INFO:     Classifier__max_delta_step          : 1\n",
      "COMET INFO:     Classifier__max_depth               : 15\n",
      "COMET INFO:     Classifier__max_leaves              : 1\n",
      "COMET INFO:     Classifier__min_child_weight        : 1\n",
      "COMET INFO:     Classifier__missing                 : nan\n",
      "COMET INFO:     Classifier__monotone_constraints    : 1\n",
      "COMET INFO:     Classifier__n_estimators            : 200\n",
      "COMET INFO:     Classifier__n_jobs                  : 1\n",
      "COMET INFO:     Classifier__num_parallel_tree       : 1\n",
      "COMET INFO:     Classifier__objective               : binary:logistic\n",
      "COMET INFO:     Classifier__predictor               : 1\n",
      "COMET INFO:     Classifier__random_state            : 42\n",
      "COMET INFO:     Classifier__reg_alpha               : 1\n",
      "COMET INFO:     Classifier__reg_lambda              : 1\n",
      "COMET INFO:     Classifier__sampling_method         : 1\n",
      "COMET INFO:     Classifier__scale_pos_weight        : 1\n",
      "COMET INFO:     Classifier__subsample               : 0.5\n",
      "COMET INFO:     Classifier__tree_method             : 1\n",
      "COMET INFO:     Classifier__use_label_encoder       : 1\n",
      "COMET INFO:     Classifier__validate_parameters     : 1\n",
      "COMET INFO:     Classifier__verbosity               : 1\n",
      "COMET INFO:     Imputer                             : SimpleImputer()\n",
      "COMET INFO:     Imputer__add_indicator              : False\n",
      "COMET INFO:     Imputer__copy                       : True\n",
      "COMET INFO:     Imputer__fill_value                 : 1\n",
      "COMET INFO:     Imputer__keep_empty_features        : False\n",
      "COMET INFO:     Imputer__missing_values             : nan\n",
      "COMET INFO:     Imputer__strategy                   : mean\n",
      "COMET INFO:     Imputer__verbose                    : deprecated\n",
      "COMET INFO:     Transform                           : CustomTransformer()\n",
      "COMET INFO:     memory                              : 1\n",
      "COMET INFO:     modelo                              : xgb\n",
      "COMET INFO:     steps                               : [('Transform', CustomTransformer()), ('Imputer', SimpleImputer()), ('Classifier', XGBClassifier(base_score=None, booster=None, callbacks=None,\n",
      "              colsample_bylevel=None, colsample_bynode=None,\n",
      "              colsample_bytree=0.7, early_stopping_rounds=None,\n",
      "              enable_categorical=False, eval_metric=None, feature_types=None,\n",
      "              gamma=None, gpu_id=None, grow_policy=None, importance_type=None,\n",
      "              interaction_constraints=None, learning_rate=0.01, max_bin=None,\n",
      "              max_cat_threshold=None, max_cat_to_onehot=None,\n",
      "              max_delta_step=None, max_depth=15, max_leaves=None,\n",
      "              min_child_weight=None, missing=nan, monotone_constraints=None,\n",
      "              n_estimators=200, n_jobs=None, num_parallel_tree=None,\n",
      "              predictor=None, random_state=42, ...))]\n",
      "COMET INFO:     verbose                             : False\n",
      "COMET INFO:   Uploads:\n",
      "COMET INFO:     environment details : 1\n",
      "COMET INFO:     filename            : 1\n",
      "COMET INFO:     installed packages  : 1\n",
      "COMET INFO:     notebook            : 1\n",
      "COMET INFO:     source_code         : 1\n",
      "COMET INFO: \n",
      "COMET WARNING: Comet has disabled auto-logging functionality as it has been imported after the following ML modules: sklearn. Metrics and hyperparameters can still be logged using Experiment.log_metrics() and Experiment.log_parameters()\n",
      "COMET WARNING: As you are running in a Jupyter environment, you will need to call `experiment.end()` when finished to ensure all metrics and code are logged before exiting.\n",
      "COMET INFO: Couldn't find a Git repository in 'C:\\\\Users\\\\Franco\\\\Desktop\\\\Franco\\\\Facultad\\\\Fing\\\\2023\\\\Semestre 1\\\\TAA\\\\Proyecto 1' nor in any parent directory. You can override where Comet is looking for a Git Patch by setting the configuration `COMET_GIT_DIRECTORY`\n",
      "COMET WARNING: Unknown error exporting current conda environment\n",
      "COMET WARNING: Unknown error retrieving Conda package as an explicit file\n",
      "COMET WARNING: Unknown error retrieving Conda information\n",
      "COMET INFO: Experiment is live on comet.com https://www.comet.com/franco-berrutti/proy1/d37be46b47644f79bb0940a9cb454717\n",
      "\n",
      "COMET INFO: ---------------------------------------------------------------------------------------\n",
      "COMET INFO: Comet.ml Experiment Summary\n",
      "COMET INFO: ---------------------------------------------------------------------------------------\n",
      "COMET INFO:   Data:\n",
      "COMET INFO:     display_summary_level : 1\n",
      "COMET INFO:     url                   : https://www.comet.com/franco-berrutti/proy1/d37be46b47644f79bb0940a9cb454717\n",
      "COMET INFO:   Metrics [count] (min, max):\n",
      "COMET INFO:     Fit Time [10] : (84.92517590522766, 88.17032599449158)\n",
      "COMET INFO:     f1 [10]       : (0.7531618759455371, 0.7632727272727272)\n",
      "COMET INFO:     roc [10]      : (0.907294573646109, 0.9116292799272484)\n",
      "COMET INFO:   Others:\n",
      "COMET INFO:     Name : RF\n",
      "COMET INFO:   Parameters:\n",
      "COMET INFO:     Classifier                          : XGBClassifier(base_score=None, booster=None, callbacks=None,\n",
      "              colsample_bylevel=None, colsample_bynode=None,\n",
      "              colsample_bytree=0.7, early_stopping_rounds=None,\n",
      "              enable_categorical=False, eval_metric=None, feature_types=None,\n",
      "              gamma=None, gpu_id=None, grow_policy=None, importance_type=None,\n",
      "              interaction_constraints=None, learning_rate=0.01, max_bin=None,\n",
      "              max_cat_threshold=None, max_cat_to_onehot=None,\n",
      "              max_delta_step=None, max_depth=15, max_leaves=None,\n",
      "              min_child_weight=None, missing=nan, monotone_constraints=None,\n",
      "              n_estimators=200, n_jobs=None, num_parallel_tree=None,\n",
      "              predictor=None, random_state=42, ...)\n"
     ]
    },
    {
     "name": "stderr",
     "output_type": "stream",
     "text": [
      "COMET INFO:     Classifier__base_score              : 1\n",
      "COMET INFO:     Classifier__booster                 : 1\n",
      "COMET INFO:     Classifier__callbacks               : 1\n",
      "COMET INFO:     Classifier__colsample_bylevel       : 1\n",
      "COMET INFO:     Classifier__colsample_bynode        : 1\n",
      "COMET INFO:     Classifier__colsample_bytree        : 0.7\n",
      "COMET INFO:     Classifier__early_stopping_rounds   : 1\n",
      "COMET INFO:     Classifier__enable_categorical      : False\n",
      "COMET INFO:     Classifier__eval_metric             : 1\n",
      "COMET INFO:     Classifier__feature_types           : 1\n",
      "COMET INFO:     Classifier__gamma                   : 1\n",
      "COMET INFO:     Classifier__gpu_id                  : 1\n",
      "COMET INFO:     Classifier__grow_policy             : 1\n",
      "COMET INFO:     Classifier__importance_type         : 1\n",
      "COMET INFO:     Classifier__interaction_constraints : 1\n",
      "COMET INFO:     Classifier__learning_rate           : 0.01\n",
      "COMET INFO:     Classifier__max_bin                 : 1\n",
      "COMET INFO:     Classifier__max_cat_threshold       : 1\n",
      "COMET INFO:     Classifier__max_cat_to_onehot       : 1\n",
      "COMET INFO:     Classifier__max_delta_step          : 1\n",
      "COMET INFO:     Classifier__max_depth               : 15\n",
      "COMET INFO:     Classifier__max_leaves              : 1\n",
      "COMET INFO:     Classifier__min_child_weight        : 1\n",
      "COMET INFO:     Classifier__missing                 : nan\n",
      "COMET INFO:     Classifier__monotone_constraints    : 1\n",
      "COMET INFO:     Classifier__n_estimators            : 200\n",
      "COMET INFO:     Classifier__n_jobs                  : 1\n",
      "COMET INFO:     Classifier__num_parallel_tree       : 1\n",
      "COMET INFO:     Classifier__objective               : binary:logistic\n",
      "COMET INFO:     Classifier__predictor               : 1\n",
      "COMET INFO:     Classifier__random_state            : 42\n",
      "COMET INFO:     Classifier__reg_alpha               : 1\n",
      "COMET INFO:     Classifier__reg_lambda              : 1\n",
      "COMET INFO:     Classifier__sampling_method         : 1\n",
      "COMET INFO:     Classifier__scale_pos_weight        : 1\n",
      "COMET INFO:     Classifier__subsample               : 0.5\n",
      "COMET INFO:     Classifier__tree_method             : 1\n",
      "COMET INFO:     Classifier__use_label_encoder       : 1\n",
      "COMET INFO:     Classifier__validate_parameters     : 1\n",
      "COMET INFO:     Classifier__verbosity               : 1\n",
      "COMET INFO:     Imputer                             : SimpleImputer()\n",
      "COMET INFO:     Imputer__add_indicator              : False\n",
      "COMET INFO:     Imputer__copy                       : True\n",
      "COMET INFO:     Imputer__fill_value                 : 1\n",
      "COMET INFO:     Imputer__keep_empty_features        : False\n",
      "COMET INFO:     Imputer__missing_values             : nan\n",
      "COMET INFO:     Imputer__strategy                   : mean\n",
      "COMET INFO:     Imputer__verbose                    : deprecated\n",
      "COMET INFO:     Transform                           : CustomTransformer()\n",
      "COMET INFO:     memory                              : 1\n",
      "COMET INFO:     modelo                              : xgb\n",
      "COMET INFO:     steps                               : [('Transform', CustomTransformer()), ('Imputer', SimpleImputer()), ('Classifier', XGBClassifier(base_score=None, booster=None, callbacks=None,\n",
      "              colsample_bylevel=None, colsample_bynode=None,\n",
      "              colsample_bytree=0.7, early_stopping_rounds=None,\n",
      "              enable_categorical=False, eval_metric=None, feature_types=None,\n",
      "              gamma=None, gpu_id=None, grow_policy=None, importance_type=None,\n",
      "              interaction_constraints=None, learning_rate=0.01, max_bin=None,\n",
      "              max_cat_threshold=None, max_cat_to_onehot=None,\n",
      "              max_delta_step=None, max_depth=15, max_leaves=None,\n",
      "              min_child_weight=None, missing=nan, monotone_constraints=None,\n",
      "              n_estimators=200, n_jobs=None, num_parallel_tree=None,\n",
      "              predictor=None, random_state=42, ...))]\n",
      "COMET INFO:     verbose                             : False\n",
      "COMET INFO:   Uploads:\n",
      "COMET INFO:     environment details : 1\n",
      "COMET INFO:     figures             : 1\n",
      "COMET INFO:     filename            : 1\n",
      "COMET INFO:     installed packages  : 1\n",
      "COMET INFO:     notebook            : 1\n",
      "COMET INFO:     source_code         : 1\n",
      "COMET INFO: \n",
      "COMET WARNING: Comet has disabled auto-logging functionality as it has been imported after the following ML modules: sklearn. Metrics and hyperparameters can still be logged using Experiment.log_metrics() and Experiment.log_parameters()\n",
      "COMET INFO: Uploading metrics, params, and assets to Comet before program termination (may take several seconds)\n",
      "COMET INFO: The Python SDK has 3600 seconds to finish uploading collected data\n",
      "COMET INFO: Uploading 197 metrics, params and output messages\n"
     ]
    },
    {
     "data": {
      "image/png": "[encoded data removed]",
      "text/plain": [
       "<Figure size 640x480 with 1 Axes>"
      ]
     },
     "metadata": {},
     "output_type": "display_data"
    }
   ],
   "source": [
    "# Commet\n",
    "#Creo un experimento con la API KEY\n",
    "exp_xgb = Experiment(api_key=API_KEY,  \n",
    "                 project_name='PROY1', # Nombre del proyecto donde se registran los experimentos\n",
    "                 auto_param_logging=False) \n",
    "exp_xgb.set_name('xgb') # Nombre de este experimento\n",
    "exp_xgb.add_tags(['xgb']) # Tags\n",
    "\n",
    "exp_xgb.log_parameters(XGB_reg_model.get_params())\n",
    "exp_xgb.log_parameter(\"modelo\",\"xgb\")\n",
    "save_results(exp_xgb,scores_xgb)\n",
    "exp_xgb.end()"
   ]
  },
  {
   "cell_type": "markdown",
   "id": "87bf5639",
   "metadata": {},
   "source": [
    "# Preprocesamientos\n"
   ]
  },
  {
   "cell_type": "code",
   "execution_count": null,
   "id": "1961ef58",
   "metadata": {},
   "outputs": [],
   "source": [
    "(X_train, X_val, y_train, y_val, pesos_train, pesos_val, \n",
    " valor_esperado_signal, valor_esperado_background) = divideConjuntos(df_train)\n",
    "\n",
    "X_train, X_val, y_train, y_val, pesos_train, pesos_val = actualizaPesos(X_train, X_val, y_train, y_val, pesos_train, \n",
    "                                                            pesos_val, valor_esperado_signal, valor_esperado_background)\n",
    "\n",
    "\n",
    "y_train, y_val = labels_a_binario(y_train, y_val)\n",
    "\n",
    "EventID_train, X_train = dropEventID(X_train)\n",
    "EventID_val, X_val = dropEventID(X_val)"
   ]
  },
  {
   "cell_type": "markdown",
   "id": "4e1957e4",
   "metadata": {},
   "source": [
    "## Eliminar todas las columnas que contengan datos faltantes"
   ]
  },
  {
   "cell_type": "code",
   "execution_count": null,
   "id": "a57766be",
   "metadata": {},
   "outputs": [],
   "source": [
    "X_train_sin_nan =  drop999(X_train)\n",
    "X_val_sin_nan =  drop999(X_val)"
   ]
  },
  {
   "cell_type": "code",
   "execution_count": null,
   "id": "65a0bbcd",
   "metadata": {},
   "outputs": [],
   "source": [
    "from sklearn.model_selection import cross_validate, StratifiedKFold\n",
    "\n",
    "clf_1 = RandomForestClassifier(class_weight='balanced', max_depth=15, min_samples_leaf=5, n_estimators=75)\n",
    "\n",
    "\n",
    "skf = StratifiedKFold(10)\n",
    "score = cross_validate(clf_1,\n",
    "                        X_train_sin_nan,\n",
    "                        y_train,\n",
    "                        scoring=[\"f1\", \"roc_auc\"],\n",
    "                        cv=skf.split(X_train_sin_nan, y_train),\n",
    "                        verbose=3,\n",
    "                        n_jobs=-1)\n"
   ]
  },
  {
   "cell_type": "code",
   "execution_count": null,
   "id": "6cc976bd",
   "metadata": {},
   "outputs": [],
   "source": [
    "#Creo un experimento con la API KEY\n",
    "API_KEY = '4758xmPFeCo55aLIV3xaKbPU2' # Se puede encontrar en Settings(Arriba a la derecha en Comet)\n",
    "exp_dt = Experiment(api_key=API_KEY,  \n",
    "                 project_name='PROY1', # Nombre del proyecto donde se registran los experimentos\n",
    "                 auto_param_logging=False) \n",
    "exp_dt.set_name('Sin_nan') # Nombre de este experimento\n",
    "exp_dt.add_tags(['Sin_nan']) # Tags\n",
    "\n",
    "exp_dt.log_parameters(clf_1.get_params())\n",
    "exp_dt.log_parameter(\"modelo\",\"dt\")\n",
    "save_results(exp_dt,score)\n",
    "exp_dt.end()"
   ]
  },
  {
   "cell_type": "markdown",
   "id": "0e6dd708",
   "metadata": {},
   "source": [
    "## Eliminar columnas con más del 70% de datos faltantes\n"
   ]
  },
  {
   "cell_type": "code",
   "execution_count": null,
   "id": "479c9cf0",
   "metadata": {},
   "outputs": [],
   "source": [
    "X_train_nan = X_train.replace(-999, np.nan)\n",
    "X_val_nan = X_val.replace(-999, np.nan)\n",
    "largo = len(X_train)\n",
    "non_null_counts = X_train_nan.count() *(100/X_train_nan.shape[0]) #serie con los porcentajes de not null de cada columna\n",
    "\n",
    "menores_a_30 = non_null_counts[non_null_counts < 30]\n",
    "\n",
    "lista_menores_a_30 = menores_a_30.index.to_list() #lista que tiene los nombres de las columnas con menos de 30% de not null"
   ]
  },
  {
   "cell_type": "code",
   "execution_count": null,
   "id": "1154f405",
   "metadata": {},
   "outputs": [],
   "source": [
    "X_train_30 =  X_train_nan.drop(columns = lista_menores_a_30)\n",
    "X_val_30 =  X_val_nan.drop(columns = lista_menores_a_30)\n",
    "\n",
    "imputer_30 = SimpleImputer(strategy='mean')\n",
    "\n",
    "X_train_30 = pd.DataFrame(imputer_30.fit_transform(X_train_30), columns=X_train_30.columns)\n",
    "X_val_30 =   pd.DataFrame(imputer_30.transform(X_val_30), columns=X_val_30.columns)"
   ]
  },
  {
   "cell_type": "code",
   "execution_count": null,
   "id": "fb93e873",
   "metadata": {},
   "outputs": [],
   "source": [
    "clf_2 = RandomForestClassifier(max_depth=15, min_samples_leaf=5)\n",
    "\n",
    "skf = StratifiedKFold(10)\n",
    "score = cross_validate(clf_2,\n",
    "                        X_train_30,\n",
    "                        y_train,\n",
    "                        scoring=[\"f1\", \"roc_auc\"],\n",
    "                        cv=skf.split(X_train, y_train),\n",
    "                        verbose=3,\n",
    "                        n_jobs=-1)"
   ]
  },
  {
   "cell_type": "code",
   "execution_count": null,
   "id": "a81d4756",
   "metadata": {},
   "outputs": [],
   "source": [
    "#Creo un experimento con la API KEY\n",
    "API_KEY = '4758xmPFeCo55aLIV3xaKbPU2' # Se puede encontrar en Settings(Arriba a la derecha en Comet)\n",
    "exp_dt = Experiment(api_key=API_KEY,  \n",
    "                 project_name='PROY1', # Nombre del proyecto donde se registran los experimentos\n",
    "                 auto_param_logging=False) \n",
    "exp_dt.set_name('Sin_Datos_faltantes_30%') # Nombre de este experimento\n",
    "exp_dt.add_tags(['Sin_Datos_faltantes_30%']) # Tags\n",
    "\n",
    "exp_dt.log_parameters(clf_2.get_params())\n",
    "exp_dt.log_parameter(\"modelo\",\"dt\")\n",
    "save_results(exp_dt, score)\n",
    "exp_dt.end()"
   ]
  },
  {
   "cell_type": "markdown",
   "id": "b4f65ffc",
   "metadata": {},
   "source": [
    "## Eliminar columnas con más del 40% de datos faltantes"
   ]
  },
  {
   "cell_type": "code",
   "execution_count": null,
   "id": "34479d8f",
   "metadata": {},
   "outputs": [],
   "source": [
    "X_train_nan = X_train.replace(-999, np.nan)\n",
    "X_val_nan = X_val.replace(-999, np.nan)\n",
    "largo = len(X_train)\n",
    "non_null_counts = X_train_nan.count() *(100/X_train_nan.shape[0]) #serie con los porcentajes de not null de cada columna\n",
    "\n",
    "menores_a_60 = non_null_counts[non_null_counts < 60]\n",
    "\n",
    "lista_menores_a_60 = menores_a_60.index.to_list() #lista que tiene los nombres de las columnas con menos de 60% de not null"
   ]
  },
  {
   "cell_type": "code",
   "execution_count": null,
   "id": "66910cd6",
   "metadata": {},
   "outputs": [],
   "source": [
    "X_train_60 =  X_train_nan.drop(columns = lista_menores_a_60)\n",
    "X_val_60 =  X_val_nan.drop(columns = lista_menores_a_60)\n",
    "\n",
    "imputer = SimpleImputer(strategy='mean')\n",
    "\n",
    "X_train_60 = pd.DataFrame(imputer.fit_transform(X_train_60), columns=X_train_60.columns)\n",
    "X_val_60 =   pd.DataFrame(imputer.transform(X_val_60), columns=X_val_60.columns)"
   ]
  },
  {
   "cell_type": "code",
   "execution_count": null,
   "id": "39fa63e1",
   "metadata": {},
   "outputs": [],
   "source": [
    "clf_3 = RandomForestClassifier(max_depth=13, min_samples_leaf=5)\n",
    "\n",
    "skf = StratifiedKFold(10)\n",
    "score = cross_validate(clf_3,\n",
    "                        X_train_60,\n",
    "                        y_train,\n",
    "                        scoring=[\"f1\", \"roc_auc\"],\n",
    "                        cv=skf.split(X_train, y_train),\n",
    "                        verbose=3,\n",
    "                        n_jobs=-1)"
   ]
  },
  {
   "cell_type": "code",
   "execution_count": null,
   "id": "41518f09",
   "metadata": {},
   "outputs": [],
   "source": [
    "#Creo un experimento con la API KEY\n",
    "API_KEY = '4758xmPFeCo55aLIV3xaKbPU2' # Se puede encontrar en Settings(Arriba a la derecha en Comet)\n",
    "exp_dt = Experiment(api_key=API_KEY,  \n",
    "                 project_name='PROY1', # Nombre del proyecto donde se registran los experimentos\n",
    "                 auto_param_logging=False) \n",
    "exp_dt.set_name('Sin_Datos_faltantes_60%') # Nombre de este experimento\n",
    "exp_dt.add_tags(['Sin_Datos_faltantes_60%']) # Tags\n",
    "\n",
    "exp_dt.log_parameters(clf_3.get_params())\n",
    "exp_dt.log_parameter(\"modelo\",\"dt\")\n",
    "save_results(exp_dt, score)\n",
    "exp_dt.end()"
   ]
  },
  {
   "cell_type": "markdown",
   "id": "f37ddff4",
   "metadata": {},
   "source": [
    "## PCA"
   ]
  },
  {
   "cell_type": "code",
   "execution_count": null,
   "id": "3d54e688",
   "metadata": {},
   "outputs": [],
   "source": [
    "imputer = SimpleImputer(strategy='mean')\n",
    "\n",
    "X_train_pca = pd.DataFrame(imputer.fit_transform(X_train), columns=X_train.columns)\n",
    "X_val_pca =   pd.DataFrame(imputer.transform(X_val), columns=X_val.columns)"
   ]
  },
  {
   "cell_type": "code",
   "execution_count": null,
   "id": "15a66de8",
   "metadata": {},
   "outputs": [],
   "source": [
    "scaler = StandardScaler()\n",
    "\n",
    "X_train_pca = pd.DataFrame(scaler.fit_transform(X_train_pca), columns=X_train_pca.columns)\n",
    "X_val_pca =   pd.DataFrame(scaler.transform(X_val_pca), columns=X_val_pca.columns)"
   ]
  },
  {
   "cell_type": "code",
   "execution_count": null,
   "id": "dd945011",
   "metadata": {},
   "outputs": [],
   "source": [
    "pca = PCA(n_components=0.99)\n",
    "\n",
    "X_train_pca = pca.fit_transform(X_train_pca)\n",
    "X_val_pca = pca.transform(X_val_pca)"
   ]
  },
  {
   "cell_type": "code",
   "execution_count": null,
   "id": "80376be4",
   "metadata": {},
   "outputs": [],
   "source": [
    "from sklearn.model_selection import cross_validate, StratifiedKFold\n",
    "\n",
    "clf_pca = RandomForestClassifier(class_weight='balanced', max_depth=19, min_samples_leaf=15)\n",
    "\n",
    "skf = StratifiedKFold(10)\n",
    "score = cross_validate(clf_pca,\n",
    "                        X_train_pca,\n",
    "                        y_train,\n",
    "                        scoring=[\"f1\", \"roc_auc\"],\n",
    "                        cv=skf.split(X_train_pca, y_train),\n",
    "                        verbose=3,\n",
    "                        n_jobs=-1)"
   ]
  },
  {
   "cell_type": "code",
   "execution_count": null,
   "id": "f279524e",
   "metadata": {},
   "outputs": [],
   "source": [
    "#Creo un experimento con la API KEY\n",
    "API_KEY = '4758xmPFeCo55aLIV3xaKbPU2' # Se puede encontrar en Settings(Arriba a la derecha en Comet)\n",
    "exp_dt = Experiment(api_key=API_KEY,  \n",
    "                 project_name='PROY1', # Nombre del proyecto donde se registran los experimentos\n",
    "                 auto_param_logging=False) \n",
    "exp_dt.set_name('PCA_99') # Nombre de este experimento\n",
    "exp_dt.add_tags(['PCA']) # Tags\n",
    "\n",
    "exp_dt.log_parameters(clf_pca.get_params())\n",
    "exp_dt.log_parameter(\"modelo\",\"dt\")\n",
    "save_results(exp_dt,score)\n",
    "exp_dt.end()"
   ]
  },
  {
   "cell_type": "code",
   "execution_count": null,
   "id": "52198317",
   "metadata": {},
   "outputs": [],
   "source": []
  },
  {
   "cell_type": "code",
   "execution_count": null,
   "id": "718e7d6d",
   "metadata": {},
   "outputs": [],
   "source": []
  },
  {
   "cell_type": "code",
   "execution_count": null,
   "id": "baf56254",
   "metadata": {},
   "outputs": [],
   "source": []
  },
  {
   "cell_type": "code",
   "execution_count": null,
   "id": "eeb08bf5",
   "metadata": {},
   "outputs": [],
   "source": []
  },
  {
   "cell_type": "code",
   "execution_count": null,
   "id": "2bee83ad",
   "metadata": {},
   "outputs": [],
   "source": []
  },
  {
   "cell_type": "code",
   "execution_count": null,
   "id": "0e9d625c",
   "metadata": {},
   "outputs": [],
   "source": []
  },
  {
   "cell_type": "code",
   "execution_count": null,
   "id": "3f563a2a",
   "metadata": {},
   "outputs": [],
   "source": []
  },
  {
   "cell_type": "code",
   "execution_count": null,
   "id": "83c66e8f",
   "metadata": {},
   "outputs": [],
   "source": []
  },
  {
   "cell_type": "code",
   "execution_count": null,
   "id": "42944917",
   "metadata": {},
   "outputs": [],
   "source": []
  },
  {
   "cell_type": "code",
   "execution_count": null,
   "id": "80453400",
   "metadata": {},
   "outputs": [],
   "source": []
  },
  {
   "cell_type": "code",
   "execution_count": null,
   "id": "1b17fa26",
   "metadata": {},
   "outputs": [],
   "source": []
  },
  {
   "cell_type": "code",
   "execution_count": null,
   "id": "c28c1513",
   "metadata": {},
   "outputs": [],
   "source": []
  },
  {
   "cell_type": "code",
   "execution_count": null,
   "id": "df1acbbe",
   "metadata": {},
   "outputs": [],
   "source": []
  },
  {
   "cell_type": "code",
   "execution_count": null,
   "id": "ca585d30",
   "metadata": {},
   "outputs": [],
   "source": []
  },
  {
   "cell_type": "code",
   "execution_count": null,
   "id": "5ae016c2",
   "metadata": {},
   "outputs": [],
   "source": []
  },
  {
   "cell_type": "code",
   "execution_count": null,
   "id": "a6908ef2",
   "metadata": {},
   "outputs": [],
   "source": []
  }
 ],
 "metadata": {
  "celltoolbar": "Tags",
  "kernelspec": {
   "display_name": "Python 3 (ipykernel)",
   "language": "python",
   "name": "python3"
  },
  "language_info": {
   "codemirror_mode": {
    "name": "ipython",
    "version": 3
   },
   "file_extension": ".py",
   "mimetype": "text/x-python",
   "name": "python",
   "nbconvert_exporter": "python",
   "pygments_lexer": "ipython3",
   "version": "3.11.1"
  }
 },
 "nbformat": 4,
 "nbformat_minor": 5
}
